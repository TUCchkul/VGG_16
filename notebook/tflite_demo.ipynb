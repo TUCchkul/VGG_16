{
 "cells": [
  {
   "cell_type": "code",
   "execution_count": 1,
   "id": "100841e6",
   "metadata": {},
   "outputs": [],
   "source": [
    "import tensorflow as tf\n",
    "import numpy as np\n",
    "from pathlib import Path\n",
    "import os"
   ]
  },
  {
   "cell_type": "code",
   "execution_count": 2,
   "id": "58c2741a",
   "metadata": {},
   "outputs": [],
   "source": [
    "path_of_saved_model=Path(\"./trained_model.h5\")\n",
    "model=tf.keras.models.load_model(path_of_saved_model)"
   ]
  },
  {
   "cell_type": "code",
   "execution_count": 3,
   "id": "5abc7a34",
   "metadata": {},
   "outputs": [
    {
     "data": {
      "text/plain": [
       "WindowsPath('trained_model.h5')"
      ]
     },
     "execution_count": 3,
     "metadata": {},
     "output_type": "execute_result"
    }
   ],
   "source": [
    "path_of_saved_model"
   ]
  },
  {
   "cell_type": "code",
   "execution_count": 4,
   "id": "c5aad037",
   "metadata": {},
   "outputs": [],
   "source": [
    "converter=tf.lite.TFLiteConverter.from_keras_model(model)\n"
   ]
  },
  {
   "cell_type": "code",
   "execution_count": 5,
   "id": "7147b085",
   "metadata": {},
   "outputs": [
    {
     "name": "stdout",
     "output_type": "stream",
     "text": [
      "INFO:tensorflow:Assets written to: C:\\Users\\kulki\\AppData\\Local\\Temp\\tmpvxofauq3\\assets\n"
     ]
    },
    {
     "name": "stderr",
     "output_type": "stream",
     "text": [
      "WARNING:absl:Buffer deduplication procedure will be skipped when flatbuffer library is not properly loaded\n"
     ]
    }
   ],
   "source": [
    "tflite_model=converter.convert()"
   ]
  },
  {
   "cell_type": "code",
   "execution_count": null,
   "id": "e3440525",
   "metadata": {},
   "outputs": [],
   "source": [
    "tflite_model_dir=Path(\"./tflite_model_dir\")\n",
    "tflite_model_dir.mkdir(exist=True, parent=True)"
   ]
  }
 ],
 "metadata": {
  "kernelspec": {
   "display_name": "Python 3 (ipykernel)",
   "language": "python",
   "name": "python3"
  },
  "language_info": {
   "codemirror_mode": {
    "name": "ipython",
    "version": 3
   },
   "file_extension": ".py",
   "mimetype": "text/x-python",
   "name": "python",
   "nbconvert_exporter": "python",
   "pygments_lexer": "ipython3",
   "version": "3.7.13"
  }
 },
 "nbformat": 4,
 "nbformat_minor": 5
}
